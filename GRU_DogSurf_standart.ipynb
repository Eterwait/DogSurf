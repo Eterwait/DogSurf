{
 "cells": [
  {
   "cell_type": "code",
   "execution_count": 1,
   "id": "f1ef9860",
   "metadata": {
    "is_executing": true
   },
   "outputs": [],
   "source": [
    "import numpy as np\n",
    "import pandas as pd\n",
    "from tqdm import tqdm\n",
    "import os\n",
    "import glob\n",
    "from multiprocessing import cpu_count\n",
    "\n",
    "import torch\n",
    "import torch.autograd as autograd\n",
    "import torch.nn as nn\n",
    "import torch.nn.functional as F\n",
    "import torch.optim as optim\n",
    "from torch.utils.data import Dataset, DataLoader, TensorDataset\n",
    "from torch.autograd import Variable\n",
    "import pytorch_lightning as pl\n",
    "\n",
    "from pytorch_lightning.callbacks import ModelCheckpoint, EarlyStopping\n",
    "from pytorch_lightning.loggers import TensorBoardLogger\n",
    "from torchmetrics.functional import accuracy\n",
    "\n",
    "import seaborn as sns\n",
    "import matplotlib.pyplot as plt\n",
    "from matplotlib import rc\n",
    "from matplotlib.ticker import MaxNLocator\n",
    "from pylab import rcParams\n",
    "\n",
    "from sklearn.model_selection import train_test_split\n",
    "from sklearn.preprocessing import LabelEncoder, StandardScaler, MinMaxScaler\n",
    "from sklearn.decomposition import PCA\n",
    "from sklearn.metrics import classification_report, confusion_matrix\n",
    "import joblib"
   ]
  },
  {
   "cell_type": "code",
   "execution_count": 2,
   "id": "ce36b032",
   "metadata": {},
   "outputs": [
    {
     "data": {
      "text/plain": [
       "True"
      ]
     },
     "execution_count": 2,
     "metadata": {},
     "output_type": "execute_result"
    }
   ],
   "source": [
    "torch.cuda.is_available() "
   ]
  },
  {
   "cell_type": "code",
   "execution_count": 3,
   "id": "58eb2127",
   "metadata": {},
   "outputs": [],
   "source": [
    "%matplotlib inline\n",
    "%config InlineBackend.figure_format = \"retina\"\n",
    "sns.set(style = 'whitegrid', palette='muted', font_scale=1.2)\n",
    "HAPPY_COLORS_PALETTE = ['#01BEFE', '#FFDD00', '#FF7D00', '#FF006D', '#ADFF02', '#8F00FF']\n",
    "sns.set_palette(sns.color_palette(HAPPY_COLORS_PALETTE))\n",
    "rcParams['figure.figsize'] = 10, 6"
   ]
  },
  {
   "cell_type": "code",
   "execution_count": 4,
   "id": "5be6e00e",
   "metadata": {},
   "outputs": [
    {
     "name": "stderr",
     "output_type": "stream",
     "text": [
      "Global seed set to 42\n"
     ]
    },
    {
     "data": {
      "text/plain": [
       "42"
      ]
     },
     "execution_count": 4,
     "metadata": {},
     "output_type": "execute_result"
    }
   ],
   "source": [
    "pl.seed_everything(42)"
   ]
  },
  {
   "cell_type": "code",
   "execution_count": 5,
   "id": "32d9a7bec2786278",
   "metadata": {},
   "outputs": [],
   "source": [
    "column_names = ['Accelerometer_X','Accelerometer_Y','Accelerometer_Z','Gyroscope_X','Gyroscope_Y','Gyroscope_Z','Magnetometer_X','Magnetometer_Y','Magnetometer_Z','time']"
   ]
  },
  {
   "cell_type": "code",
   "execution_count": 6,
   "metadata": {},
   "outputs": [],
   "source": [
    "dir_concreat = (os.listdir('/home/aliud/Documents/LSTM/new_data/concreat/external_concreat'), '/home/aliud/Documents/LSTM/new_data/concreat/external_concreat')\n",
    "dir_ice = (os.listdir('/home/aliud/Documents/LSTM/new_data/ice/External_data_ice'), '/home/aliud/Documents/LSTM/new_data/ice/External_data_ice')\n",
    "dir_titles = (os.listdir('/home/aliud/Documents/LSTM/new_data/tiles_for_blind_people/external_tiles_for_blind_people'), '/home/aliud/Documents/LSTM/new_data/tiles_for_blind_people/external_tiles_for_blind_people')\n",
    "dir_wet = (os.listdir('/home/aliud/Documents/LSTM/new_data/wet_floor/external_wet_floor'), '/home/aliud/Documents/LSTM/new_data/wet_floor/external_wet_floor')\n",
    "dir_wood = (os.listdir('/home/aliud/Documents/LSTM/new_data/wood/external_wood'), '/home/aliud/Documents/LSTM/new_data/wood/external_wood')"
   ]
  },
  {
   "cell_type": "code",
   "execution_count": 7,
   "id": "9814f681",
   "metadata": {},
   "outputs": [],
   "source": [
    "X_concreat = pd.concat([pd.read_csv(f'{dir_concreat[1]}/{dir_concreat[0][i]}', names=column_names).drop(column_names[6:11], axis=1) for i in range(len(dir_concreat[0]))], ignore_index=True)\n",
    "X_ice = pd.concat([pd.read_csv(f'{dir_ice[1]}/{dir_ice[0][i]}', names=column_names).drop(column_names[6:11], axis=1) for i in range(len(dir_ice[0]))], ignore_index=True)\n",
    "X_titles = pd.concat([pd.read_csv(f'{dir_titles[1]}/{dir_titles[0][i]}', names=column_names).drop(column_names[6:11], axis=1) for i in range(len(dir_titles[0]))], ignore_index=True)\n",
    "X_wet = pd.concat([pd.read_csv(f'{dir_wet[1]}/{dir_wet[0][i]}', names=column_names).drop(column_names[6:11], axis=1) for i in range(len(dir_wet[0]))], ignore_index=True)\n",
    "X_wood = pd.concat([pd.read_csv(f'{dir_wood[1]}/{dir_wood[0][i]}', names=column_names).drop(column_names[6:11], axis=1) for i in range(len(dir_wood[0]))], ignore_index=True)"
   ]
  },
  {
   "cell_type": "code",
   "execution_count": 8,
   "id": "9d9facda0118757e",
   "metadata": {},
   "outputs": [],
   "source": [
    "X_concreat.drop_duplicates(ignore_index=True, inplace=True)"
   ]
  },
  {
   "cell_type": "code",
   "execution_count": 9,
   "metadata": {},
   "outputs": [],
   "source": [
    "X_concreat.drop_duplicates(inplace=True)\n",
    "X_ice.drop_duplicates(inplace=True)\n",
    "X_titles.drop_duplicates(inplace=True)\n",
    "X_wet.drop_duplicates(inplace=True)\n",
    "X_wood.drop_duplicates(inplace=True)"
   ]
  },
  {
   "cell_type": "code",
   "execution_count": 10,
   "metadata": {},
   "outputs": [
    {
     "data": {
      "text/html": [
       "<style>#sk-container-id-1 {color: black;background-color: white;}#sk-container-id-1 pre{padding: 0;}#sk-container-id-1 div.sk-toggleable {background-color: white;}#sk-container-id-1 label.sk-toggleable__label {cursor: pointer;display: block;width: 100%;margin-bottom: 0;padding: 0.3em;box-sizing: border-box;text-align: center;}#sk-container-id-1 label.sk-toggleable__label-arrow:before {content: \"▸\";float: left;margin-right: 0.25em;color: #696969;}#sk-container-id-1 label.sk-toggleable__label-arrow:hover:before {color: black;}#sk-container-id-1 div.sk-estimator:hover label.sk-toggleable__label-arrow:before {color: black;}#sk-container-id-1 div.sk-toggleable__content {max-height: 0;max-width: 0;overflow: hidden;text-align: left;background-color: #f0f8ff;}#sk-container-id-1 div.sk-toggleable__content pre {margin: 0.2em;color: black;border-radius: 0.25em;background-color: #f0f8ff;}#sk-container-id-1 input.sk-toggleable__control:checked~div.sk-toggleable__content {max-height: 200px;max-width: 100%;overflow: auto;}#sk-container-id-1 input.sk-toggleable__control:checked~label.sk-toggleable__label-arrow:before {content: \"▾\";}#sk-container-id-1 div.sk-estimator input.sk-toggleable__control:checked~label.sk-toggleable__label {background-color: #d4ebff;}#sk-container-id-1 div.sk-label input.sk-toggleable__control:checked~label.sk-toggleable__label {background-color: #d4ebff;}#sk-container-id-1 input.sk-hidden--visually {border: 0;clip: rect(1px 1px 1px 1px);clip: rect(1px, 1px, 1px, 1px);height: 1px;margin: -1px;overflow: hidden;padding: 0;position: absolute;width: 1px;}#sk-container-id-1 div.sk-estimator {font-family: monospace;background-color: #f0f8ff;border: 1px dotted black;border-radius: 0.25em;box-sizing: border-box;margin-bottom: 0.5em;}#sk-container-id-1 div.sk-estimator:hover {background-color: #d4ebff;}#sk-container-id-1 div.sk-parallel-item::after {content: \"\";width: 100%;border-bottom: 1px solid gray;flex-grow: 1;}#sk-container-id-1 div.sk-label:hover label.sk-toggleable__label {background-color: #d4ebff;}#sk-container-id-1 div.sk-serial::before {content: \"\";position: absolute;border-left: 1px solid gray;box-sizing: border-box;top: 0;bottom: 0;left: 50%;z-index: 0;}#sk-container-id-1 div.sk-serial {display: flex;flex-direction: column;align-items: center;background-color: white;padding-right: 0.2em;padding-left: 0.2em;position: relative;}#sk-container-id-1 div.sk-item {position: relative;z-index: 1;}#sk-container-id-1 div.sk-parallel {display: flex;align-items: stretch;justify-content: center;background-color: white;position: relative;}#sk-container-id-1 div.sk-item::before, #sk-container-id-1 div.sk-parallel-item::before {content: \"\";position: absolute;border-left: 1px solid gray;box-sizing: border-box;top: 0;bottom: 0;left: 50%;z-index: -1;}#sk-container-id-1 div.sk-parallel-item {display: flex;flex-direction: column;z-index: 1;position: relative;background-color: white;}#sk-container-id-1 div.sk-parallel-item:first-child::after {align-self: flex-end;width: 50%;}#sk-container-id-1 div.sk-parallel-item:last-child::after {align-self: flex-start;width: 50%;}#sk-container-id-1 div.sk-parallel-item:only-child::after {width: 0;}#sk-container-id-1 div.sk-dashed-wrapped {border: 1px dashed gray;margin: 0 0.4em 0.5em 0.4em;box-sizing: border-box;padding-bottom: 0.4em;background-color: white;}#sk-container-id-1 div.sk-label label {font-family: monospace;font-weight: bold;display: inline-block;line-height: 1.2em;}#sk-container-id-1 div.sk-label-container {text-align: center;}#sk-container-id-1 div.sk-container {/* jupyter's `normalize.less` sets `[hidden] { display: none; }` but bootstrap.min.css set `[hidden] { display: none !important; }` so we also need the `!important` here to be able to override the default hidden behavior on the sphinx rendered scikit-learn.org. See: https://github.com/scikit-learn/scikit-learn/issues/21755 */display: inline-block !important;position: relative;}#sk-container-id-1 div.sk-text-repr-fallback {display: none;}</style><div id=\"sk-container-id-1\" class=\"sk-top-container\"><div class=\"sk-text-repr-fallback\"><pre>StandardScaler()</pre><b>In a Jupyter environment, please rerun this cell to show the HTML representation or trust the notebook. <br />On GitHub, the HTML representation is unable to render, please try loading this page with nbviewer.org.</b></div><div class=\"sk-container\" hidden><div class=\"sk-item\"><div class=\"sk-estimator sk-toggleable\"><input class=\"sk-toggleable__control sk-hidden--visually\" id=\"sk-estimator-id-1\" type=\"checkbox\" checked><label for=\"sk-estimator-id-1\" class=\"sk-toggleable__label sk-toggleable__label-arrow\">StandardScaler</label><div class=\"sk-toggleable__content\"><pre>StandardScaler()</pre></div></div></div></div></div>"
      ],
      "text/plain": [
       "StandardScaler()"
      ]
     },
     "execution_count": 10,
     "metadata": {},
     "output_type": "execute_result"
    }
   ],
   "source": [
    "scaler = StandardScaler()\n",
    "scaler.fit(pd.concat([X_concreat, X_ice, X_titles, X_wet, X_wood], ignore_index=True))\n",
    "# scaler = joblib.load('scaler_inner.bin')"
   ]
  },
  {
   "cell_type": "code",
   "execution_count": 11,
   "metadata": {},
   "outputs": [],
   "source": [
    "X_concreat = pd.DataFrame(scaler.transform(X_concreat), columns=column_names[0:6])\n",
    "X_ice = pd.DataFrame(scaler.transform(X_ice), columns=column_names[0:6])\n",
    "X_titles = pd.DataFrame(scaler.transform(X_titles), columns=column_names[0:6])\n",
    "X_wet = pd.DataFrame(scaler.transform(X_wet), columns=column_names[0:6])\n",
    "X_wood = pd.DataFrame(scaler.transform(X_wood), columns=column_names[0:6])"
   ]
  },
  {
   "cell_type": "code",
   "execution_count": 12,
   "metadata": {},
   "outputs": [
    {
     "data": {
      "text/html": [
       "<style>#sk-container-id-2 {color: black;background-color: white;}#sk-container-id-2 pre{padding: 0;}#sk-container-id-2 div.sk-toggleable {background-color: white;}#sk-container-id-2 label.sk-toggleable__label {cursor: pointer;display: block;width: 100%;margin-bottom: 0;padding: 0.3em;box-sizing: border-box;text-align: center;}#sk-container-id-2 label.sk-toggleable__label-arrow:before {content: \"▸\";float: left;margin-right: 0.25em;color: #696969;}#sk-container-id-2 label.sk-toggleable__label-arrow:hover:before {color: black;}#sk-container-id-2 div.sk-estimator:hover label.sk-toggleable__label-arrow:before {color: black;}#sk-container-id-2 div.sk-toggleable__content {max-height: 0;max-width: 0;overflow: hidden;text-align: left;background-color: #f0f8ff;}#sk-container-id-2 div.sk-toggleable__content pre {margin: 0.2em;color: black;border-radius: 0.25em;background-color: #f0f8ff;}#sk-container-id-2 input.sk-toggleable__control:checked~div.sk-toggleable__content {max-height: 200px;max-width: 100%;overflow: auto;}#sk-container-id-2 input.sk-toggleable__control:checked~label.sk-toggleable__label-arrow:before {content: \"▾\";}#sk-container-id-2 div.sk-estimator input.sk-toggleable__control:checked~label.sk-toggleable__label {background-color: #d4ebff;}#sk-container-id-2 div.sk-label input.sk-toggleable__control:checked~label.sk-toggleable__label {background-color: #d4ebff;}#sk-container-id-2 input.sk-hidden--visually {border: 0;clip: rect(1px 1px 1px 1px);clip: rect(1px, 1px, 1px, 1px);height: 1px;margin: -1px;overflow: hidden;padding: 0;position: absolute;width: 1px;}#sk-container-id-2 div.sk-estimator {font-family: monospace;background-color: #f0f8ff;border: 1px dotted black;border-radius: 0.25em;box-sizing: border-box;margin-bottom: 0.5em;}#sk-container-id-2 div.sk-estimator:hover {background-color: #d4ebff;}#sk-container-id-2 div.sk-parallel-item::after {content: \"\";width: 100%;border-bottom: 1px solid gray;flex-grow: 1;}#sk-container-id-2 div.sk-label:hover label.sk-toggleable__label {background-color: #d4ebff;}#sk-container-id-2 div.sk-serial::before {content: \"\";position: absolute;border-left: 1px solid gray;box-sizing: border-box;top: 0;bottom: 0;left: 50%;z-index: 0;}#sk-container-id-2 div.sk-serial {display: flex;flex-direction: column;align-items: center;background-color: white;padding-right: 0.2em;padding-left: 0.2em;position: relative;}#sk-container-id-2 div.sk-item {position: relative;z-index: 1;}#sk-container-id-2 div.sk-parallel {display: flex;align-items: stretch;justify-content: center;background-color: white;position: relative;}#sk-container-id-2 div.sk-item::before, #sk-container-id-2 div.sk-parallel-item::before {content: \"\";position: absolute;border-left: 1px solid gray;box-sizing: border-box;top: 0;bottom: 0;left: 50%;z-index: -1;}#sk-container-id-2 div.sk-parallel-item {display: flex;flex-direction: column;z-index: 1;position: relative;background-color: white;}#sk-container-id-2 div.sk-parallel-item:first-child::after {align-self: flex-end;width: 50%;}#sk-container-id-2 div.sk-parallel-item:last-child::after {align-self: flex-start;width: 50%;}#sk-container-id-2 div.sk-parallel-item:only-child::after {width: 0;}#sk-container-id-2 div.sk-dashed-wrapped {border: 1px dashed gray;margin: 0 0.4em 0.5em 0.4em;box-sizing: border-box;padding-bottom: 0.4em;background-color: white;}#sk-container-id-2 div.sk-label label {font-family: monospace;font-weight: bold;display: inline-block;line-height: 1.2em;}#sk-container-id-2 div.sk-label-container {text-align: center;}#sk-container-id-2 div.sk-container {/* jupyter's `normalize.less` sets `[hidden] { display: none; }` but bootstrap.min.css set `[hidden] { display: none !important; }` so we also need the `!important` here to be able to override the default hidden behavior on the sphinx rendered scikit-learn.org. See: https://github.com/scikit-learn/scikit-learn/issues/21755 */display: inline-block !important;position: relative;}#sk-container-id-2 div.sk-text-repr-fallback {display: none;}</style><div id=\"sk-container-id-2\" class=\"sk-top-container\"><div class=\"sk-text-repr-fallback\"><pre>PCA(n_components=4)</pre><b>In a Jupyter environment, please rerun this cell to show the HTML representation or trust the notebook. <br />On GitHub, the HTML representation is unable to render, please try loading this page with nbviewer.org.</b></div><div class=\"sk-container\" hidden><div class=\"sk-item\"><div class=\"sk-estimator sk-toggleable\"><input class=\"sk-toggleable__control sk-hidden--visually\" id=\"sk-estimator-id-2\" type=\"checkbox\" checked><label for=\"sk-estimator-id-2\" class=\"sk-toggleable__label sk-toggleable__label-arrow\">PCA</label><div class=\"sk-toggleable__content\"><pre>PCA(n_components=4)</pre></div></div></div></div></div>"
      ],
      "text/plain": [
       "PCA(n_components=4)"
      ]
     },
     "execution_count": 12,
     "metadata": {},
     "output_type": "execute_result"
    }
   ],
   "source": [
    "pca = PCA(n_components=4)\n",
    "pca.fit(pd.concat([X_concreat, X_ice, X_titles, X_wet, X_wood], ignore_index=True))\n",
    "# pca = joblib.load('pca_inner.bin')"
   ]
  },
  {
   "cell_type": "code",
   "execution_count": 13,
   "metadata": {},
   "outputs": [],
   "source": [
    "# joblib.dump(scaler, 'scaler_external_1k.bin', True)\n",
    "# joblib.dump(pca, 'pca_external_1k.bin', True)"
   ]
  },
  {
   "cell_type": "code",
   "execution_count": 14,
   "metadata": {},
   "outputs": [],
   "source": [
    "X_concreat = pd.DataFrame(pca.fit_transform(X_concreat), columns=['F1', 'F2', 'F3', 'F4'])\n",
    "X_ice = pd.DataFrame(pca.fit_transform(X_ice), columns=['F1', 'F2', 'F3', 'F4'])\n",
    "X_titles = pd.DataFrame(pca.fit_transform(X_titles), columns=['F1', 'F2', 'F3', 'F4'])\n",
    "X_wet = pd.DataFrame(pca.fit_transform(X_wet), columns=['F1', 'F2', 'F3', 'F4'])\n",
    "X_wood = pd.DataFrame(pca.fit_transform(X_wood), columns=['F1', 'F2', 'F3', 'F4'])"
   ]
  },
  {
   "cell_type": "code",
   "execution_count": 15,
   "metadata": {},
   "outputs": [
    {
     "data": {
      "text/html": [
       "<div>\n",
       "<style scoped>\n",
       "    .dataframe tbody tr th:only-of-type {\n",
       "        vertical-align: middle;\n",
       "    }\n",
       "\n",
       "    .dataframe tbody tr th {\n",
       "        vertical-align: top;\n",
       "    }\n",
       "\n",
       "    .dataframe thead th {\n",
       "        text-align: right;\n",
       "    }\n",
       "</style>\n",
       "<table border=\"1\" class=\"dataframe\">\n",
       "  <thead>\n",
       "    <tr style=\"text-align: right;\">\n",
       "      <th></th>\n",
       "      <th>F1</th>\n",
       "      <th>F2</th>\n",
       "      <th>F3</th>\n",
       "      <th>F4</th>\n",
       "    </tr>\n",
       "  </thead>\n",
       "  <tbody>\n",
       "    <tr>\n",
       "      <th>0</th>\n",
       "      <td>0.301738</td>\n",
       "      <td>-0.036237</td>\n",
       "      <td>0.708704</td>\n",
       "      <td>0.298928</td>\n",
       "    </tr>\n",
       "    <tr>\n",
       "      <th>1</th>\n",
       "      <td>0.246224</td>\n",
       "      <td>0.532449</td>\n",
       "      <td>0.277176</td>\n",
       "      <td>0.255650</td>\n",
       "    </tr>\n",
       "    <tr>\n",
       "      <th>2</th>\n",
       "      <td>0.258266</td>\n",
       "      <td>0.221154</td>\n",
       "      <td>0.489728</td>\n",
       "      <td>0.151093</td>\n",
       "    </tr>\n",
       "    <tr>\n",
       "      <th>3</th>\n",
       "      <td>0.353787</td>\n",
       "      <td>0.327973</td>\n",
       "      <td>0.238443</td>\n",
       "      <td>0.270142</td>\n",
       "    </tr>\n",
       "    <tr>\n",
       "      <th>4</th>\n",
       "      <td>0.466472</td>\n",
       "      <td>-0.191188</td>\n",
       "      <td>0.668776</td>\n",
       "      <td>0.028316</td>\n",
       "    </tr>\n",
       "    <tr>\n",
       "      <th>...</th>\n",
       "      <td>...</td>\n",
       "      <td>...</td>\n",
       "      <td>...</td>\n",
       "      <td>...</td>\n",
       "    </tr>\n",
       "    <tr>\n",
       "      <th>226726</th>\n",
       "      <td>0.396212</td>\n",
       "      <td>0.162615</td>\n",
       "      <td>0.301094</td>\n",
       "      <td>-0.122404</td>\n",
       "    </tr>\n",
       "    <tr>\n",
       "      <th>226727</th>\n",
       "      <td>0.662590</td>\n",
       "      <td>-0.181684</td>\n",
       "      <td>0.199060</td>\n",
       "      <td>0.716102</td>\n",
       "    </tr>\n",
       "    <tr>\n",
       "      <th>226728</th>\n",
       "      <td>-1.373766</td>\n",
       "      <td>-0.763236</td>\n",
       "      <td>-1.447836</td>\n",
       "      <td>-0.123426</td>\n",
       "    </tr>\n",
       "    <tr>\n",
       "      <th>226729</th>\n",
       "      <td>-2.487339</td>\n",
       "      <td>-0.543497</td>\n",
       "      <td>-0.719428</td>\n",
       "      <td>-0.130348</td>\n",
       "    </tr>\n",
       "    <tr>\n",
       "      <th>226730</th>\n",
       "      <td>-1.964755</td>\n",
       "      <td>-1.263828</td>\n",
       "      <td>0.906208</td>\n",
       "      <td>0.113588</td>\n",
       "    </tr>\n",
       "  </tbody>\n",
       "</table>\n",
       "<p>226731 rows × 4 columns</p>\n",
       "</div>"
      ],
      "text/plain": [
       "              F1        F2        F3        F4\n",
       "0       0.301738 -0.036237  0.708704  0.298928\n",
       "1       0.246224  0.532449  0.277176  0.255650\n",
       "2       0.258266  0.221154  0.489728  0.151093\n",
       "3       0.353787  0.327973  0.238443  0.270142\n",
       "4       0.466472 -0.191188  0.668776  0.028316\n",
       "...          ...       ...       ...       ...\n",
       "226726  0.396212  0.162615  0.301094 -0.122404\n",
       "226727  0.662590 -0.181684  0.199060  0.716102\n",
       "226728 -1.373766 -0.763236 -1.447836 -0.123426\n",
       "226729 -2.487339 -0.543497 -0.719428 -0.130348\n",
       "226730 -1.964755 -1.263828  0.906208  0.113588\n",
       "\n",
       "[226731 rows x 4 columns]"
      ]
     },
     "execution_count": 15,
     "metadata": {},
     "output_type": "execute_result"
    }
   ],
   "source": [
    "X_concreat"
   ]
  },
  {
   "cell_type": "code",
   "execution_count": 16,
   "id": "a9775e7f",
   "metadata": {},
   "outputs": [],
   "source": [
    "SERIE_LEN = 100\n",
    "count_series = 1\n",
    "sequences = []\n",
    "sequences_df = pd.DataFrame(columns=['sequence', 'label'])\n",
    "labels_names = {'concreat': 0, 'ice': 1, 'titles': 2, 'wet': 3, 'wood': 4}\n",
    "lengthes = []"
   ]
  },
  {
   "cell_type": "code",
   "execution_count": 17,
   "id": "51a1f701",
   "metadata": {},
   "outputs": [
    {
     "name": "stderr",
     "output_type": "stream",
     "text": [
      "100%|██████████| 226631/226631 [00:37<00:00, 5993.22it/s]\n"
     ]
    }
   ],
   "source": [
    "# X_concreat_tmp = []\n",
    "for i in tqdm(range(len(X_concreat) - SERIE_LEN)):\n",
    "    tmp = X_concreat.iloc[i: SERIE_LEN + i].copy()\n",
    "    sequences.append((tmp.copy(), labels_names['concreat']))\n",
    "    tmp.insert(len(X_concreat.columns), 'series_id', count_series)\n",
    "    # X_concreat_tmp.append(tmp)\n",
    "    count_series += 1\n",
    "lengthes.append(len(sequences))\n",
    "# X_concreat_wide = pd.concat(X_concreat_tmp, ignore_index=True)"
   ]
  },
  {
   "cell_type": "code",
   "execution_count": 18,
   "id": "ad4ec1f5e395285d",
   "metadata": {},
   "outputs": [
    {
     "name": "stderr",
     "output_type": "stream",
     "text": [
      "100%|██████████| 178545/178545 [00:28<00:00, 6173.97it/s]\n"
     ]
    }
   ],
   "source": [
    "# X_ice_tmp = []\n",
    "for i in tqdm(range(len(X_ice) - SERIE_LEN)):\n",
    "    tmp = X_ice.iloc[i: SERIE_LEN + i].copy()\n",
    "    sequences.append((tmp.copy(), labels_names['ice']))\n",
    "    tmp.insert(len(X_ice.columns), 'series_id', count_series)\n",
    "    # X_ice_tmp.append(tmp)\n",
    "    count_series += 1\n",
    "lengthes.append(len(sequences) - lengthes[-1])\n",
    "# X_ice_wide = pd.concat(X_ice_tmp, ignore_index=True)"
   ]
  },
  {
   "cell_type": "code",
   "execution_count": 19,
   "id": "d2d7695d1f09485a",
   "metadata": {},
   "outputs": [
    {
     "name": "stderr",
     "output_type": "stream",
     "text": [
      "100%|██████████| 222859/222859 [00:36<00:00, 6123.58it/s]\n"
     ]
    }
   ],
   "source": [
    "# X_titles_tmp = []\n",
    "for i in tqdm(range(len(X_titles) - SERIE_LEN)):\n",
    "    tmp = X_titles.iloc[i: SERIE_LEN + i].copy()\n",
    "    sequences.append((tmp.copy(), labels_names['titles']))\n",
    "    tmp.insert(len(X_titles.columns), 'series_id', count_series)\n",
    "    # X_titles_tmp.append(tmp)\n",
    "    count_series += 1\n",
    "lengthes.append(len(sequences) - lengthes[-1] - lengthes[-2])\n",
    "# X_titles_wide = pd.concat(X_titles_tmp, ignore_index=True)"
   ]
  },
  {
   "cell_type": "code",
   "execution_count": 20,
   "id": "611ab874e3bd23c8",
   "metadata": {},
   "outputs": [
    {
     "name": "stderr",
     "output_type": "stream",
     "text": [
      "  0%|          | 0/356641 [00:00<?, ?it/s]"
     ]
    },
    {
     "name": "stderr",
     "output_type": "stream",
     "text": [
      "100%|██████████| 356641/356641 [00:58<00:00, 6088.33it/s]\n"
     ]
    }
   ],
   "source": [
    "# X_wet_tmp = []\n",
    "for i in tqdm(range(len(X_wet) - SERIE_LEN)):\n",
    "    tmp = X_wet.iloc[i: SERIE_LEN + i].copy()\n",
    "    sequences.append((tmp.copy(), labels_names['wet']))\n",
    "    tmp.insert(len(X_wet.columns), 'series_id', count_series)\n",
    "    # X_wet_tmp.append(tmp)\n",
    "    count_series += 1\n",
    "lengthes.append(len(sequences) - lengthes[-1] - lengthes[-2] - lengthes[-3])\n",
    "# X_wet_wide = pd.concat(X_wet_tmp, ignore_index=True)"
   ]
  },
  {
   "cell_type": "code",
   "execution_count": 21,
   "id": "3b353efd4a862f4d",
   "metadata": {},
   "outputs": [
    {
     "name": "stderr",
     "output_type": "stream",
     "text": [
      "100%|██████████| 365307/365307 [01:00<00:00, 5993.51it/s]\n"
     ]
    }
   ],
   "source": [
    "# X_wood_tmp = []\n",
    "for i in tqdm(range(len(X_wood) - SERIE_LEN)):\n",
    "    tmp = X_wood.iloc[i: SERIE_LEN + i].copy()\n",
    "    sequences.append((tmp.copy(), labels_names['wood']))\n",
    "    tmp.insert(len(X_wood.columns), 'series_id', count_series)\n",
    "    # X_wood_tmp.append(tmp)\n",
    "    count_series += 1\n",
    "lengthes.append(len(sequences) - lengthes[-1] - lengthes[-2] - lengthes[-3] - lengthes[-4])\n",
    "# X_wood_wide = pd.concat(X_wood_tmp, ignore_index=True)"
   ]
  },
  {
   "cell_type": "code",
   "execution_count": 22,
   "id": "975cf852",
   "metadata": {},
   "outputs": [],
   "source": [
    "y_concreat = pd.DataFrame(np.zeros(lengthes[0]), columns=['Label'])\n",
    "y_ice = pd.DataFrame(np.ones(lengthes[1]), columns=['Label'])\n",
    "y_titles = pd.DataFrame(np.ones(lengthes[3]) * 2, columns=['Label'])\n",
    "y_wet = pd.DataFrame(np.ones(lengthes[2]) * 3, columns=['Label'])\n",
    "y_wood = pd.DataFrame(np.ones(lengthes[4]) * 4, columns=['Label'])\n",
    "\n",
    "y_concreat['series_id'] = list(range(1, len(y_concreat) + 1))\n",
    "y_ice['series_id'] = list(range(len(y_concreat) + 1, len(y_concreat) + len(y_ice) + 1))\n",
    "y_titles['series_id'] = list(range(len(y_concreat) + len(y_ice) + 1, len(y_concreat) + len(y_ice) + len(y_titles) + 1))\n",
    "y_wet['series_id'] = list(range(len(y_concreat) + len(y_ice)  + len(y_titles)+ 1, len(y_concreat) + len(y_ice) +  + len(y_titles) + len(y_wet) + 1))\n",
    "y_wood['series_id'] = list(range(len(y_concreat) + len(y_ice) + len(y_titles) + len(y_wet) + 1, len(y_concreat) + len(y_ice) + len(y_titles) + len(y_wet) + len(y_wood) + 1))"
   ]
  },
  {
   "cell_type": "code",
   "execution_count": 23,
   "id": "bd97ca2e",
   "metadata": {},
   "outputs": [],
   "source": [
    "y = pd.concat([y_concreat, y_ice, y_titles, y_wet, y_wood], ignore_index=True)"
   ]
  },
  {
   "cell_type": "code",
   "execution_count": 24,
   "id": "f23362327da26663",
   "metadata": {},
   "outputs": [
    {
     "data": {
      "text/html": [
       "<div>\n",
       "<style scoped>\n",
       "    .dataframe tbody tr th:only-of-type {\n",
       "        vertical-align: middle;\n",
       "    }\n",
       "\n",
       "    .dataframe tbody tr th {\n",
       "        vertical-align: top;\n",
       "    }\n",
       "\n",
       "    .dataframe thead th {\n",
       "        text-align: right;\n",
       "    }\n",
       "</style>\n",
       "<table border=\"1\" class=\"dataframe\">\n",
       "  <thead>\n",
       "    <tr style=\"text-align: right;\">\n",
       "      <th></th>\n",
       "      <th>Label</th>\n",
       "      <th>series_id</th>\n",
       "    </tr>\n",
       "  </thead>\n",
       "  <tbody>\n",
       "    <tr>\n",
       "      <th>0</th>\n",
       "      <td>0.0</td>\n",
       "      <td>1</td>\n",
       "    </tr>\n",
       "    <tr>\n",
       "      <th>1</th>\n",
       "      <td>0.0</td>\n",
       "      <td>2</td>\n",
       "    </tr>\n",
       "    <tr>\n",
       "      <th>2</th>\n",
       "      <td>0.0</td>\n",
       "      <td>3</td>\n",
       "    </tr>\n",
       "    <tr>\n",
       "      <th>3</th>\n",
       "      <td>0.0</td>\n",
       "      <td>4</td>\n",
       "    </tr>\n",
       "    <tr>\n",
       "      <th>4</th>\n",
       "      <td>0.0</td>\n",
       "      <td>5</td>\n",
       "    </tr>\n",
       "    <tr>\n",
       "      <th>...</th>\n",
       "      <td>...</td>\n",
       "      <td>...</td>\n",
       "    </tr>\n",
       "    <tr>\n",
       "      <th>1349978</th>\n",
       "      <td>4.0</td>\n",
       "      <td>1349979</td>\n",
       "    </tr>\n",
       "    <tr>\n",
       "      <th>1349979</th>\n",
       "      <td>4.0</td>\n",
       "      <td>1349980</td>\n",
       "    </tr>\n",
       "    <tr>\n",
       "      <th>1349980</th>\n",
       "      <td>4.0</td>\n",
       "      <td>1349981</td>\n",
       "    </tr>\n",
       "    <tr>\n",
       "      <th>1349981</th>\n",
       "      <td>4.0</td>\n",
       "      <td>1349982</td>\n",
       "    </tr>\n",
       "    <tr>\n",
       "      <th>1349982</th>\n",
       "      <td>4.0</td>\n",
       "      <td>1349983</td>\n",
       "    </tr>\n",
       "  </tbody>\n",
       "</table>\n",
       "<p>1349983 rows × 2 columns</p>\n",
       "</div>"
      ],
      "text/plain": [
       "         Label  series_id\n",
       "0          0.0          1\n",
       "1          0.0          2\n",
       "2          0.0          3\n",
       "3          0.0          4\n",
       "4          0.0          5\n",
       "...        ...        ...\n",
       "1349978    4.0    1349979\n",
       "1349979    4.0    1349980\n",
       "1349980    4.0    1349981\n",
       "1349981    4.0    1349982\n",
       "1349982    4.0    1349983\n",
       "\n",
       "[1349983 rows x 2 columns]"
      ]
     },
     "execution_count": 24,
     "metadata": {},
     "output_type": "execute_result"
    }
   ],
   "source": [
    "y"
   ]
  },
  {
   "cell_type": "code",
   "execution_count": 25,
   "id": "25fc3a90",
   "metadata": {},
   "outputs": [
    {
     "data": {
      "image/png": "[encoded data removed]",
      "text/plain": [
       "<Figure size 1000x600 with 1 Axes>"
      ]
     },
     "metadata": {
      "image/png": {
       "height": 554,
       "width": 877
      }
     },
     "output_type": "display_data"
    }
   ],
   "source": [
    "y.Label.value_counts().plot(kind='bar');\n",
    "plt.xticks(rotation=45)\n",
    "plt.show()"
   ]
  },
  {
   "attachments": {},
   "cell_type": "markdown",
   "id": "54885062",
   "metadata": {},
   "source": [
    "### Preprocessing"
   ]
  },
  {
   "attachments": {},
   "cell_type": "markdown",
   "id": "4b8fa378",
   "metadata": {},
   "source": [
    "C начала просто закодируем переменные и затем добавим их обратно в датафрейм"
   ]
  },
  {
   "cell_type": "code",
   "execution_count": 26,
   "id": "b5d55df447c3e8ac",
   "metadata": {},
   "outputs": [
    {
     "data": {
      "text/plain": [
       "['F1', 'F2', 'F3', 'F4']"
      ]
     },
     "execution_count": 26,
     "metadata": {},
     "output_type": "execute_result"
    }
   ],
   "source": [
    "FEATURE_COLUMNS = list(X_concreat.columns)\n",
    "FEATURE_COLUMNS"
   ]
  },
  {
   "cell_type": "code",
   "execution_count": 27,
   "id": "5941be56",
   "metadata": {},
   "outputs": [
    {
     "data": {
      "text/plain": [
       "(944988, 121498, 283497)"
      ]
     },
     "execution_count": 27,
     "metadata": {},
     "output_type": "execute_result"
    }
   ],
   "source": [
    "train_sequences, test_valid_sequences = train_test_split(sequences, test_size=0.3)\n",
    "valid_sequences, test_sequences = train_test_split(test_valid_sequences, test_size=0.7)\n",
    "len(train_sequences), len(valid_sequences), len(test_sequences)"
   ]
  },
  {
   "attachments": {},
   "cell_type": "markdown",
   "id": "2b71de4c",
   "metadata": {},
   "source": [
    "### Dataset"
   ]
  },
  {
   "cell_type": "code",
   "execution_count": 28,
   "id": "bfac2d5f",
   "metadata": {},
   "outputs": [],
   "source": [
    "class SurfaceDataset(Dataset):\n",
    "    \n",
    "    def __init__(self, sequences):\n",
    "        self.sequences = sequences\n",
    "        \n",
    "    def __len__(self):\n",
    "        return len(self.sequences)\n",
    "    \n",
    "    def __getitem__(self, idx):\n",
    "        sequence, label = self.sequences[idx]\n",
    "        return dict(sequence = torch.Tensor(sequence.to_numpy()), label = torch.tensor(label).long())\n",
    "    "
   ]
  },
  {
   "cell_type": "code",
   "execution_count": 29,
   "id": "b642e797",
   "metadata": {},
   "outputs": [],
   "source": [
    "class SurfaceDataModule(pl.LightningDataModule):\n",
    "    \n",
    "    def __init__(self, train_sequences, valid_sequences, test_sequences, batch_size):\n",
    "        super().__init__()\n",
    "        self.train_sequences = train_sequences\n",
    "        self.valid_sequences = valid_sequences\n",
    "        self.test_sequences = test_sequences\n",
    "        self.batch_size = batch_size\n",
    "        \n",
    "    def setup(self, stage=None):\n",
    "        self.train_dataset = SurfaceDataset(self.train_sequences)\n",
    "        self.val_dataset = SurfaceDataset(self.valid_sequences)\n",
    "        self.test_dataset = SurfaceDataset(self.test_sequences)\n",
    "        \n",
    "    def train_dataloader(self):\n",
    "        return DataLoader(\n",
    "            self.train_dataset,\n",
    "            batch_size = self.batch_size,\n",
    "            shuffle=True,\n",
    "            num_workers = cpu_count())\n",
    "    \n",
    "    def val_dataloader(self):\n",
    "        return DataLoader(\n",
    "            self.val_dataset,\n",
    "            batch_size = self.batch_size,\n",
    "            shuffle=False,\n",
    "            num_workers = cpu_count())\n",
    "    \n",
    "    def test_dataloader(self):\n",
    "        return DataLoader(\n",
    "            self.test_dataset,\n",
    "            batch_size = self.batch_size,\n",
    "            shuffle=False,\n",
    "            num_workers = cpu_count())"
   ]
  },
  {
   "cell_type": "code",
   "execution_count": 30,
   "id": "c9f5aedf",
   "metadata": {},
   "outputs": [],
   "source": [
    "N_EPOCHS = 1\n",
    "BATCH_SIZE = 16\n",
    "\n",
    "data_module = SurfaceDataModule(train_sequences, valid_sequences, test_sequences, BATCH_SIZE)"
   ]
  },
  {
   "attachments": {},
   "cell_type": "markdown",
   "id": "a1613ef7",
   "metadata": {},
   "source": [
    "### Model"
   ]
  },
  {
   "cell_type": "code",
   "execution_count": 65,
   "id": "90289325",
   "metadata": {},
   "outputs": [],
   "source": [
    "class SequenceModel(nn.Module):\n",
    "    \n",
    "    def __init__(self, n_features, n_classes, n_hidden=9, n_layers=1):\n",
    "        super().__init__()\n",
    "        \n",
    "        self.gru = nn.GRU(\n",
    "            input_size=n_features,\n",
    "            num_layers=n_layers,\n",
    "            hidden_size=n_hidden,\n",
    "            batch_first=True,\n",
    "            dropout=0.75,\n",
    "            bidirectional=True)\n",
    "    \n",
    "        self.classifier1 = nn.Linear(2*n_hidden, n_classes)\n",
    "\n",
    "        \n",
    "    def forward(self, x):\n",
    "        self.gru.flatten_parameters()\n",
    "        _, hidden = self.gru(x)\n",
    "        out = torch.cat((hidden[-2], hidden[-1]), dim=1)\n",
    "        return self.classifier1(out)"
   ]
  },
  {
   "cell_type": "code",
   "execution_count": 66,
   "id": "8735d391",
   "metadata": {},
   "outputs": [],
   "source": [
    "class SurfacePredictor(pl.LightningModule):\n",
    "    def __init__(self, n_features: int, n_classes: int):\n",
    "        super().__init__()\n",
    "        self.model = SequenceModel(n_features, n_classes)\n",
    "        self.criterion = nn.CrossEntropyLoss()\n",
    "        self.n_classes = n_classes\n",
    "        self.predictions = []\n",
    "        self.labels = []\n",
    "        self.predictions_raw = []\n",
    "\n",
    "\n",
    "    def forward(self, x, labels=None):\n",
    "        output = self.model(x)\n",
    "        loss = 0\n",
    "        if labels is not None:\n",
    "            loss = self.criterion(output, labels)\n",
    "        return loss, output\n",
    "    \n",
    "    def training_step(self, batch, batch_idx):\n",
    "        sequences = batch['sequence']\n",
    "        labels = batch['label']\n",
    "        loss, outputs = self(sequences, labels)\n",
    "        predictions = torch.argmax(outputs, dim=1)\n",
    "        step_accuracy = accuracy(task='multiclass', num_classes=self.n_classes, preds=predictions, target=labels)\n",
    "\n",
    "        self.log('train_loss', loss, prog_bar=True, logger=True)\n",
    "        self.log('train_accuracy', step_accuracy, prog_bar=True, logger=True)\n",
    "        return {'loss': loss, 'accuracy': step_accuracy}\n",
    "    \n",
    "    def validation_step(self, batch, batch_idx):\n",
    "        sequences = batch['sequence']\n",
    "        labels = batch['label']\n",
    "        loss, outputs = self(sequences, labels)\n",
    "        predictions = torch.argmax(outputs, dim=1)\n",
    "        step_accuracy = accuracy(task='multiclass', num_classes=self.n_classes, preds=predictions, target=labels)\n",
    "\n",
    "        self.log('val_loss', loss, prog_bar=True, logger=True)\n",
    "        self.log('val_accuracy', step_accuracy, prog_bar=True, logger=True)\n",
    "        return {'loss': loss, 'accuracy': step_accuracy}\n",
    "    \n",
    "    def test_step(self, batch, batch_idx):\n",
    "        sequences = batch['sequence']\n",
    "        labels = batch['label']\n",
    "        loss, outputs = self(sequences, labels)\n",
    "        predictions = torch.argmax(outputs, dim=1)\n",
    "        predictions_raw = outputs.softmax(1)[[list(range(len(batch['label'])))], labels].squeeze()\n",
    "        self.predictions += predictions.tolist()\n",
    "        self.labels += labels.tolist()\n",
    "        self.predictions_raw += predictions_raw.tolist()\n",
    "        step_accuracy = accuracy(task='multiclass', num_classes=self.n_classes, preds=predictions, target=labels)\n",
    "\n",
    "        self.log('test_loss', loss, prog_bar=True, logger=True)\n",
    "        self.log('test_accuracy', step_accuracy, prog_bar=True, logger=True)\n",
    "        return {'loss': loss, 'accuracy': step_accuracy}\n",
    "    \n",
    "    def configure_optimizers(self):\n",
    "        return optim.AdamW(self.parameters(), lr = 0.0001)"
   ]
  },
  {
   "cell_type": "code",
   "execution_count": 67,
   "id": "e544c52f",
   "metadata": {},
   "outputs": [],
   "source": [
    "model = SurfacePredictor(n_features=len(FEATURE_COLUMNS), n_classes=5)\n",
    "checkpoint_callback = ModelCheckpoint(dirpath = 'checkpoints',\n",
    "                                      filename='checkpoint',\n",
    "                                      save_top_k=1,\n",
    "                                      verbose=True,\n",
    "                                      monitor='val_loss',\n",
    "                                      mode='min')\n",
    "logger = TensorBoardLogger(\"lightning_logs_unitree\", name=\"gru_standart_PCA_20h_1_5_adamw_final\") #l;,l,mpo"
   ]
  },
  {
   "cell_type": "code",
   "execution_count": 68,
   "id": "d51f8802",
   "metadata": {
    "scrolled": true
   },
   "outputs": [],
   "source": [
    "# %load_ext tensorboard\n",
    "# %tensorboard --logdir ./lightning_logs"
   ]
  },
  {
   "cell_type": "code",
   "execution_count": 69,
   "id": "92309040",
   "metadata": {},
   "outputs": [
    {
     "name": "stderr",
     "output_type": "stream",
     "text": [
      "GPU available: True (cuda), used: True\n",
      "TPU available: False, using: 0 TPU cores\n",
      "IPU available: False, using: 0 IPUs\n",
      "HPU available: False, using: 0 HPUs\n"
     ]
    }
   ],
   "source": [
    "trainer = pl.Trainer(logger=logger, max_epochs=N_EPOCHS, log_every_n_steps=1)"
   ]
  },
  {
   "cell_type": "code",
   "execution_count": 75,
   "id": "c36be6c4",
   "metadata": {},
   "outputs": [
    {
     "name": "stderr",
     "output_type": "stream",
     "text": [
      "You are using a CUDA device ('NVIDIA GeForce RTX 3070') that has Tensor Cores. To properly utilize them, you should set `torch.set_float32_matmul_precision('medium' | 'high')` which will trade-off precision for performance. For more details, read https://pytorch.org/docs/stable/generated/torch.set_float32_matmul_precision.html#torch.set_float32_matmul_precision\n",
      "LOCAL_RANK: 0 - CUDA_VISIBLE_DEVICES: [0]\n",
      "\n",
      "  | Name      | Type             | Params\n",
      "-----------------------------------------------\n",
      "0 | model     | SequenceModel    | 905   \n",
      "1 | criterion | CrossEntropyLoss | 0     \n",
      "-----------------------------------------------\n",
      "905       Trainable params\n",
      "0         Non-trainable params\n",
      "905       Total params\n",
      "0.004     Total estimated model params size (MB)\n"
     ]
    },
    {
     "data": {
      "application/vnd.jupyter.widget-view+json": {
       "model_id": "2c5d0d7079a644c2ab7538ed4b756863",
       "version_major": 2,
       "version_minor": 0
      },
      "text/plain": [
       "Sanity Checking: 0it [00:00, ?it/s]"
      ]
     },
     "metadata": {},
     "output_type": "display_data"
    },
    {
     "name": "stderr",
     "output_type": "stream",
     "text": [
      "Exception ignored in: <function _releaseLock at 0x7f491f928c20>\n",
      "Traceback (most recent call last):\n",
      "  File \"/home/aliud/anaconda3/envs/LSTM/lib/python3.11/logging/__init__.py\", line 237, in _releaseLock\n",
      "    def _releaseLock():\n",
      "    \n",
      "KeyboardInterrupt: \n"
     ]
    },
    {
     "data": {
      "application/vnd.jupyter.widget-view+json": {
       "model_id": "507cb659d8494e8c8d7d6ed205784bee",
       "version_major": 2,
       "version_minor": 0
      },
      "text/plain": [
       "Training: 0it [00:00, ?it/s]"
      ]
     },
     "metadata": {},
     "output_type": "display_data"
    }
   ],
   "source": [
    "trainer.fit(model, data_module)"
   ]
  },
  {
   "cell_type": "code",
   "execution_count": 152,
   "id": "c22ff39f",
   "metadata": {},
   "outputs": [],
   "source": [
    "# path_to_best_checkpoint = trainer.checkpoint_callback.best_model_path\n",
    "# trainer = pl.Trainer(logger=logger, max_epochs=1)\n",
    "# trainer.fit(model, data_module, ckpt_path=path_to_best_checkpoint)"
   ]
  },
  {
   "cell_type": "markdown",
   "id": "402d2709",
   "metadata": {},
   "source": []
  },
  {
   "attachments": {},
   "cell_type": "markdown",
   "id": "8897ca9c",
   "metadata": {},
   "source": [
    "### Predictions"
   ]
  },
  {
   "cell_type": "code",
   "execution_count": 70,
   "id": "8dfd24e8",
   "metadata": {},
   "outputs": [],
   "source": [
    "trained_model = SurfacePredictor.load_from_checkpoint('/home/aliud/Documents/LSTM/lightning_logs_unitree/gru_standart_PCA_9h_1_4_adamw_1hidden/version_0/checkpoints/epoch=0-step=59062.ckpt', #jnbkjnjlknlkjnj\n",
    "                                                      n_features=len(FEATURE_COLUMNS),\n",
    "                                                      n_classes=5\n",
    "                                                      )\n",
    "\n",
    "trained_model.freeze()"
   ]
  },
  {
   "cell_type": "code",
   "execution_count": 71,
   "id": "c8a747469052fe",
   "metadata": {},
   "outputs": [
    {
     "name": "stderr",
     "output_type": "stream",
     "text": [
      "You are using a CUDA device ('NVIDIA GeForce RTX 3070') that has Tensor Cores. To properly utilize them, you should set `torch.set_float32_matmul_precision('medium' | 'high')` which will trade-off precision for performance. For more details, read https://pytorch.org/docs/stable/generated/torch.set_float32_matmul_precision.html#torch.set_float32_matmul_precision\n",
      "LOCAL_RANK: 0 - CUDA_VISIBLE_DEVICES: [0]\n"
     ]
    },
    {
     "data": {
      "application/vnd.jupyter.widget-view+json": {
       "model_id": "0eeefa7be3e249c1be3cfca391636701",
       "version_major": 2,
       "version_minor": 0
      },
      "text/plain": [
       "Testing: 0it [00:00, ?it/s]"
      ]
     },
     "metadata": {},
     "output_type": "display_data"
    },
    {
     "data": {
      "text/html": [
       "<pre style=\"white-space:pre;overflow-x:auto;line-height:normal;font-family:Menlo,'DejaVu Sans Mono',consolas,'Courier New',monospace\">┏━━━━━━━━━━━━━━━━━━━━━━━━━━━┳━━━━━━━━━━━━━━━━━━━━━━━━━━━┓\n",
       "┃<span style=\"font-weight: bold\">   Runningstage.testing    </span>┃<span style=\"font-weight: bold\">                           </span>┃\n",
       "┃<span style=\"font-weight: bold\">          metric           </span>┃<span style=\"font-weight: bold\">       DataLoader 0        </span>┃\n",
       "┡━━━━━━━━━━━━━━━━━━━━━━━━━━━╇━━━━━━━━━━━━━━━━━━━━━━━━━━━┩\n",
       "│<span style=\"color: #008080; text-decoration-color: #008080\">       test_accuracy       </span>│<span style=\"color: #800080; text-decoration-color: #800080\">    0.9969805479049683     </span>│\n",
       "│<span style=\"color: #008080; text-decoration-color: #008080\">         test_loss         </span>│<span style=\"color: #800080; text-decoration-color: #800080\">   0.015123004093766212    </span>│\n",
       "└───────────────────────────┴───────────────────────────┘\n",
       "</pre>\n"
      ],
      "text/plain": [
       "┏━━━━━━━━━━━━━━━━━━━━━━━━━━━┳━━━━━━━━━━━━━━━━━━━━━━━━━━━┓\n",
       "┃\u001b[1m \u001b[0m\u001b[1m  Runningstage.testing   \u001b[0m\u001b[1m \u001b[0m┃\u001b[1m                           \u001b[0m┃\n",
       "┃\u001b[1m \u001b[0m\u001b[1m         metric          \u001b[0m\u001b[1m \u001b[0m┃\u001b[1m \u001b[0m\u001b[1m      DataLoader 0       \u001b[0m\u001b[1m \u001b[0m┃\n",
       "┡━━━━━━━━━━━━━━━━━━━━━━━━━━━╇━━━━━━━━━━━━━━━━━━━━━━━━━━━┩\n",
       "│\u001b[36m \u001b[0m\u001b[36m      test_accuracy      \u001b[0m\u001b[36m \u001b[0m│\u001b[35m \u001b[0m\u001b[35m   0.9969805479049683    \u001b[0m\u001b[35m \u001b[0m│\n",
       "│\u001b[36m \u001b[0m\u001b[36m        test_loss        \u001b[0m\u001b[36m \u001b[0m│\u001b[35m \u001b[0m\u001b[35m  0.015123004093766212   \u001b[0m\u001b[35m \u001b[0m│\n",
       "└───────────────────────────┴───────────────────────────┘\n"
      ]
     },
     "metadata": {},
     "output_type": "display_data"
    },
    {
     "data": {
      "text/plain": [
       "[{'test_loss': 0.015123004093766212, 'test_accuracy': 0.9969805479049683}]"
      ]
     },
     "execution_count": 71,
     "metadata": {},
     "output_type": "execute_result"
    }
   ],
   "source": [
    "trainer.test(trained_model, data_module)"
   ]
  },
  {
   "cell_type": "code",
   "execution_count": 72,
   "id": "aaf38b909319277",
   "metadata": {},
   "outputs": [],
   "source": [
    "classes_list = ['Concrete', 'Ice', 'Titles', 'Wet', 'Wood']"
   ]
  },
  {
   "cell_type": "code",
   "execution_count": 73,
   "id": "def22934",
   "metadata": {},
   "outputs": [
    {
     "name": "stdout",
     "output_type": "stream",
     "text": [
      "              precision    recall  f1-score   support\n",
      "\n",
      "    Concrete    0.99751   0.99845   0.99798     47736\n",
      "         Ice    0.99199   0.99308   0.99254     37293\n",
      "      Titles    0.99664   0.99655   0.99660     47012\n",
      "         Wet    0.99686   0.99581   0.99634     74714\n",
      "        Wood    0.99940   0.99936   0.99938     76742\n",
      "\n",
      "    accuracy                        0.99698    283497\n",
      "   macro avg    0.99648   0.99665   0.99657    283497\n",
      "weighted avg    0.99698   0.99698   0.99698    283497\n",
      "\n"
     ]
    }
   ],
   "source": [
    "print(classification_report(trained_model.labels, trained_model.predictions, target_names=classes_list, digits=5))"
   ]
  },
  {
   "cell_type": "code",
   "execution_count": 182,
   "id": "00b02266",
   "metadata": {},
   "outputs": [
    {
     "name": "stdout",
     "output_type": "stream",
     "text": [
      "              precision    recall  f1-score   support\n",
      "\n",
      "    Concrete    0.99956   0.99998   0.99977     47546\n",
      "         Ice    0.99661   0.99825   0.99743     37095\n",
      "      Titles    0.99964   0.99994   0.99979     47193\n",
      "         Wet    0.99933   0.99872   0.99903     74903\n",
      "        Wood    1.00000   0.99936   0.99968     76760\n",
      "\n",
      "    accuracy                        0.99925    283497\n",
      "   macro avg    0.99903   0.99925   0.99914    283497\n",
      "weighted avg    0.99925   0.99925   0.99925    283497\n",
      "\n"
     ]
    }
   ],
   "source": [
    "print(classification_report(trained_model.labels, trained_model.predictions, target_names=classes_list, digits=5))"
   ]
  },
  {
   "cell_type": "code",
   "execution_count": 183,
   "id": "b2c0f880",
   "metadata": {},
   "outputs": [],
   "source": [
    "def show_confusion_matrix(confusion_matrix):\n",
    "    hmap = sns.heatmap(confusion_matrix, annot=True, fmt='d', cmap='Blues')\n",
    "    hmap.yaxis.set_ticklabels(hmap.yaxis.get_ticklabels(), rotation=0, ha='right')\n",
    "    hmap.xaxis.set_ticklabels(hmap.xaxis.get_ticklabels(), rotation=30, ha='right')\n",
    "    plt.ylabel('True surface')\n",
    "    plt.xlabel('Predicted surface')"
   ]
  },
  {
   "cell_type": "code",
   "execution_count": 74,
   "id": "5046acc3",
   "metadata": {},
   "outputs": [
    {
     "data": {
      "text/html": [
       "<div>\n",
       "<style scoped>\n",
       "    .dataframe tbody tr th:only-of-type {\n",
       "        vertical-align: middle;\n",
       "    }\n",
       "\n",
       "    .dataframe tbody tr th {\n",
       "        vertical-align: top;\n",
       "    }\n",
       "\n",
       "    .dataframe thead th {\n",
       "        text-align: right;\n",
       "    }\n",
       "</style>\n",
       "<table border=\"1\" class=\"dataframe\">\n",
       "  <thead>\n",
       "    <tr style=\"text-align: right;\">\n",
       "      <th></th>\n",
       "      <th>Concrete</th>\n",
       "      <th>Ice</th>\n",
       "      <th>Titles</th>\n",
       "      <th>Wet</th>\n",
       "      <th>Wood</th>\n",
       "    </tr>\n",
       "  </thead>\n",
       "  <tbody>\n",
       "    <tr>\n",
       "      <th>Concrete</th>\n",
       "      <td>47662</td>\n",
       "      <td>4</td>\n",
       "      <td>14</td>\n",
       "      <td>56</td>\n",
       "      <td>0</td>\n",
       "    </tr>\n",
       "    <tr>\n",
       "      <th>Ice</th>\n",
       "      <td>7</td>\n",
       "      <td>37035</td>\n",
       "      <td>126</td>\n",
       "      <td>125</td>\n",
       "      <td>0</td>\n",
       "    </tr>\n",
       "    <tr>\n",
       "      <th>Titles</th>\n",
       "      <td>11</td>\n",
       "      <td>121</td>\n",
       "      <td>46850</td>\n",
       "      <td>5</td>\n",
       "      <td>25</td>\n",
       "    </tr>\n",
       "    <tr>\n",
       "      <th>Wet</th>\n",
       "      <td>100</td>\n",
       "      <td>174</td>\n",
       "      <td>18</td>\n",
       "      <td>74401</td>\n",
       "      <td>21</td>\n",
       "    </tr>\n",
       "    <tr>\n",
       "      <th>Wood</th>\n",
       "      <td>1</td>\n",
       "      <td>0</td>\n",
       "      <td>0</td>\n",
       "      <td>48</td>\n",
       "      <td>76693</td>\n",
       "    </tr>\n",
       "  </tbody>\n",
       "</table>\n",
       "</div>"
      ],
      "text/plain": [
       "          Concrete    Ice  Titles    Wet   Wood\n",
       "Concrete     47662      4      14     56      0\n",
       "Ice              7  37035     126    125      0\n",
       "Titles          11    121   46850      5     25\n",
       "Wet            100    174      18  74401     21\n",
       "Wood             1      0       0     48  76693"
      ]
     },
     "execution_count": 74,
     "metadata": {},
     "output_type": "execute_result"
    }
   ],
   "source": [
    "cm = confusion_matrix(trained_model.labels, trained_model.predictions)\n",
    "pd.DataFrame(cm, index=classes_list, columns=classes_list)"
   ]
  },
  {
   "cell_type": "code",
   "execution_count": 58,
   "id": "03961902",
   "metadata": {},
   "outputs": [
    {
     "data": {
      "text/html": [
       "<div>\n",
       "<style scoped>\n",
       "    .dataframe tbody tr th:only-of-type {\n",
       "        vertical-align: middle;\n",
       "    }\n",
       "\n",
       "    .dataframe tbody tr th {\n",
       "        vertical-align: top;\n",
       "    }\n",
       "\n",
       "    .dataframe thead th {\n",
       "        text-align: right;\n",
       "    }\n",
       "</style>\n",
       "<table border=\"1\" class=\"dataframe\">\n",
       "  <thead>\n",
       "    <tr style=\"text-align: right;\">\n",
       "      <th></th>\n",
       "      <th>Concrete</th>\n",
       "      <th>Ice</th>\n",
       "      <th>Titles</th>\n",
       "      <th>Wet</th>\n",
       "      <th>Wood</th>\n",
       "    </tr>\n",
       "  </thead>\n",
       "  <tbody>\n",
       "    <tr>\n",
       "      <th>Concrete</th>\n",
       "      <td>47734</td>\n",
       "      <td>0</td>\n",
       "      <td>1</td>\n",
       "      <td>1</td>\n",
       "      <td>0</td>\n",
       "    </tr>\n",
       "    <tr>\n",
       "      <th>Ice</th>\n",
       "      <td>34</td>\n",
       "      <td>36807</td>\n",
       "      <td>67</td>\n",
       "      <td>385</td>\n",
       "      <td>0</td>\n",
       "    </tr>\n",
       "    <tr>\n",
       "      <th>Titles</th>\n",
       "      <td>65</td>\n",
       "      <td>4</td>\n",
       "      <td>46943</td>\n",
       "      <td>0</td>\n",
       "      <td>0</td>\n",
       "    </tr>\n",
       "    <tr>\n",
       "      <th>Wet</th>\n",
       "      <td>121</td>\n",
       "      <td>199</td>\n",
       "      <td>6</td>\n",
       "      <td>74380</td>\n",
       "      <td>8</td>\n",
       "    </tr>\n",
       "    <tr>\n",
       "      <th>Wood</th>\n",
       "      <td>1</td>\n",
       "      <td>0</td>\n",
       "      <td>0</td>\n",
       "      <td>60</td>\n",
       "      <td>76681</td>\n",
       "    </tr>\n",
       "  </tbody>\n",
       "</table>\n",
       "</div>"
      ],
      "text/plain": [
       "          Concrete    Ice  Titles    Wet   Wood\n",
       "Concrete     47734      0       1      1      0\n",
       "Ice             34  36807      67    385      0\n",
       "Titles          65      4   46943      0      0\n",
       "Wet            121    199       6  74380      8\n",
       "Wood             1      0       0     60  76681"
      ]
     },
     "execution_count": 58,
     "metadata": {},
     "output_type": "execute_result"
    }
   ],
   "source": [
    "cm = confusion_matrix(trained_model.labels, trained_model.predictions)\n",
    "pd.DataFrame(cm, index=classes_list, columns=classes_list)"
   ]
  }
 ],
 "metadata": {
  "kernelspec": {
   "display_name": "Python 3 (ipykernel)",
   "language": "python",
   "name": "python3"
  },
  "language_info": {
   "codemirror_mode": {
    "name": "ipython",
    "version": 3
   },
   "file_extension": ".py",
   "mimetype": "text/x-python",
   "name": "python",
   "nbconvert_exporter": "python",
   "pygments_lexer": "ipython3",
   "version": "3.11.5"
  }
 },
 "nbformat": 4,
 "nbformat_minor": 5
}
